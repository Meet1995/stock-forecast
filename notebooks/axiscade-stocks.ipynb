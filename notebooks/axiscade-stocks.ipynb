{
 "cells": [
  {
   "cell_type": "code",
   "execution_count": null,
   "id": "alive-heaven",
   "metadata": {},
   "outputs": [],
   "source": [
    "from stock_utilities import Pipeline"
   ]
  },
  {
   "cell_type": "code",
   "execution_count": 2,
   "id": "5bd9c5a8",
   "metadata": {},
   "outputs": [],
   "source": [
    "pipe = Pipeline(\"MAXHEALTH.NS\", '2021-04-01', '2022-05-16')"
   ]
  },
  {
   "cell_type": "code",
   "execution_count": 6,
   "id": "131f2b4f",
   "metadata": {},
   "outputs": [
    {
     "name": "stdout",
     "output_type": "stream",
     "text": [
      "[*********************100%***********************]  1 of 1 completed\n",
      "********************** daily Open **********************\n",
      "q capped!\n",
      "Train R-squared:  0.9389496531128626\n",
      "Estimated Open price for 2022-05-17 00:00:00: 363.72867673184555\n",
      "********************** weekly Open **********************\n",
      "None of the pacf values is crossing the confidence interval\n",
      "Setting p to 1\n",
      "None of the acf values is crossing the confidence interval\n",
      "Setting q to 0\n",
      "Train R-squared:  0.7624098340652358\n",
      "Estimated Open price for week 21 of year 2022: 368.584013382316\n",
      "********************** daily High **********************\n",
      "None of the pacf values is crossing the confidence interval\n",
      "Setting p to 1\n",
      "None of the acf values is crossing the confidence interval\n",
      "Setting q to 0\n",
      "Train R-squared:  0.9351482869114891\n",
      "Estimated High price for 2022-05-17 00:00:00: 381.86080643412356\n",
      "********************** weekly High **********************\n",
      "None of the pacf values is crossing the confidence interval\n",
      "Setting p to 1\n",
      "None of the acf values is crossing the confidence interval\n",
      "Setting q to 0\n",
      "Train R-squared:  0.7340111932661728\n",
      "Estimated High price for week 21 of year 2022: 382.7507819631455\n",
      "********************** daily Low **********************\n",
      "None of the pacf values is crossing the confidence interval\n",
      "Setting p to 1\n",
      "None of the acf values is crossing the confidence interval\n",
      "Setting q to 0\n",
      "Train R-squared:  0.938054305728228\n",
      "Estimated Low price for 2022-05-17 00:00:00: 365.33748928633923\n",
      "********************** weekly Low **********************\n",
      "None of the pacf values is crossing the confidence interval\n",
      "Setting p to 1\n",
      "q capped!\n",
      "Train R-squared:  0.7622171015596857\n",
      "Estimated Low price for week 21 of year 2022: 376.54233047569727\n",
      "********************** daily Close **********************\n",
      "q capped!\n",
      "Train R-squared:  0.9341516913329672\n",
      "Estimated Close price for 2022-05-17 00:00:00: 365.2275080626676\n",
      "********************** weekly Close **********************\n",
      "None of the pacf values is crossing the confidence interval\n",
      "Setting p to 1\n",
      "None of the acf values is crossing the confidence interval\n",
      "Setting q to 0\n",
      "Train R-squared:  0.7335392467286845\n",
      "Estimated Close price for week 21 of year 2022: 369.3907727563266\n",
      "\n",
      "************************\n",
      "Trade signal is generated using price data from 2022-05-16 00:00:00\n",
      "No action required for 2022-05-17\n",
      "************************\n",
      "Current strategy would have earned 172.62709744231478 % profit, if deployed since 2021-04-01\n"
     ]
    }
   ],
   "source": [
    "df_pred, params, tuned_strat_para, msg_dict = pipe.refresh_recommendation(buying_price=360)"
   ]
  },
  {
   "cell_type": "code",
   "execution_count": 10,
   "id": "5c6e3e00",
   "metadata": {},
   "outputs": [
    {
     "data": {
      "text/html": [
       "<div>\n",
       "<style scoped>\n",
       "    .dataframe tbody tr th:only-of-type {\n",
       "        vertical-align: middle;\n",
       "    }\n",
       "\n",
       "    .dataframe tbody tr th {\n",
       "        vertical-align: top;\n",
       "    }\n",
       "\n",
       "    .dataframe thead th {\n",
       "        text-align: right;\n",
       "    }\n",
       "</style>\n",
       "<table border=\"1\" class=\"dataframe\">\n",
       "  <thead>\n",
       "    <tr style=\"text-align: right;\">\n",
       "      <th></th>\n",
       "      <th>pred_Open</th>\n",
       "      <th>weekly_pred_Open</th>\n",
       "      <th>pred_High</th>\n",
       "      <th>weekly_pred_High</th>\n",
       "      <th>pred_Low</th>\n",
       "      <th>weekly_pred_Low</th>\n",
       "      <th>pred_Close</th>\n",
       "      <th>weekly_pred_Close</th>\n",
       "      <th>min_pred</th>\n",
       "      <th>max_pred</th>\n",
       "    </tr>\n",
       "  </thead>\n",
       "  <tbody>\n",
       "    <tr>\n",
       "      <th>0</th>\n",
       "      <td>363.728677</td>\n",
       "      <td>368.584013</td>\n",
       "      <td>381.860806</td>\n",
       "      <td>382.750782</td>\n",
       "      <td>365.337489</td>\n",
       "      <td>376.54233</td>\n",
       "      <td>365.227508</td>\n",
       "      <td>369.390773</td>\n",
       "      <td>363.728677</td>\n",
       "      <td>382.750782</td>\n",
       "    </tr>\n",
       "  </tbody>\n",
       "</table>\n",
       "</div>"
      ],
      "text/plain": [
       "    pred_Open  weekly_pred_Open   pred_High  weekly_pred_High    pred_Low  \\\n",
       "0  363.728677        368.584013  381.860806        382.750782  365.337489   \n",
       "\n",
       "   weekly_pred_Low  pred_Close  weekly_pred_Close    min_pred    max_pred  \n",
       "0        376.54233  365.227508         369.390773  363.728677  382.750782  "
      ]
     },
     "execution_count": 10,
     "metadata": {},
     "output_type": "execute_result"
    }
   ],
   "source": [
    "df_pred"
   ]
  },
  {
   "cell_type": "code",
   "execution_count": 11,
   "id": "8bbba0fc",
   "metadata": {},
   "outputs": [
    {
     "data": {
      "text/plain": [
       "{'daily_Open': (24, 1, 2),\n",
       " 'weekly_Open': (1, 1, 0),\n",
       " 'daily_High': (1, 1, 0),\n",
       " 'weekly_High': (1, 1, 0),\n",
       " 'daily_Low': (1, 1, 0),\n",
       " 'weekly_Low': (1, 1, 2),\n",
       " 'daily_Close': (9, 1, 2),\n",
       " 'weekly_Close': (1, 1, 0)}"
      ]
     },
     "execution_count": 11,
     "metadata": {},
     "output_type": "execute_result"
    }
   ],
   "source": [
    "params"
   ]
  },
  {
   "cell_type": "code",
   "execution_count": 7,
   "id": "e4acc7fc",
   "metadata": {},
   "outputs": [
    {
     "data": {
      "text/plain": [
       "{'recom': 'No action required for 2022-05-17',\n",
       " 'additional_info': 'Current strategy would have earned 172.62709744231478 % profit, if deployed since 2021-04-01'}"
      ]
     },
     "execution_count": 7,
     "metadata": {},
     "output_type": "execute_result"
    }
   ],
   "source": [
    "msg_dict"
   ]
  }
 ],
 "metadata": {
  "interpreter": {
   "hash": "e1b2948d9ffbe414eaeba75c8e16743399c7a7aa29a1c91b68b41bdc5e642bea"
  },
  "kernelspec": {
   "display_name": "Python 3.9.12 ('common_env')",
   "language": "python",
   "name": "python3"
  },
  "language_info": {
   "codemirror_mode": {
    "name": "ipython",
    "version": 3
   },
   "file_extension": ".py",
   "mimetype": "text/x-python",
   "name": "python",
   "nbconvert_exporter": "python",
   "pygments_lexer": "ipython3",
   "version": "3.9.12"
  }
 },
 "nbformat": 4,
 "nbformat_minor": 5
}
